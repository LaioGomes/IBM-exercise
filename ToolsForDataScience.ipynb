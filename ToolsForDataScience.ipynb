{
  "nbformat": 4,
  "nbformat_minor": 0,
  "metadata": {
    "colab": {
      "name": "Untitled2.ipynb",
      "provenance": [],
      "collapsed_sections": [],
      "authorship_tag": "ABX9TyMF37EmxY3cNpeHCU4s0w/f",
      "include_colab_link": true
    },
    "kernelspec": {
      "name": "python3",
      "display_name": "Python 3"
    },
    "language_info": {
      "name": "python"
    }
  },
  "cells": [
    {
      "cell_type": "markdown",
      "metadata": {
        "id": "view-in-github",
        "colab_type": "text"
      },
      "source": [
        "<a href=\"https://colab.research.google.com/github/LaioGomes/IBM-exercise/blob/main/ToolsForDataScience.ipynb\" target=\"_parent\"><img src=\"https://colab.research.google.com/assets/colab-badge.svg\" alt=\"Open In Colab\"/></a>"
      ]
    },
    {
      "cell_type": "markdown",
      "source": [
        "<h1>My Jupyter Notebook on IBM Watson Studio<h1/>"
      ],
      "metadata": {
        "id": "MspZ91W7mHBW"
      }
    },
    {
      "cell_type": "markdown",
      "source": [
        "<h2>Laio Gomes</h2> \n",
        "<p>I really want to become a great Data scientis</p>"
      ],
      "metadata": {
        "id": "NUGFmsdKmNbH"
      }
    },
    {
      "cell_type": "markdown",
      "source": [
        "*I am interested in Data Science because of my passion about statistics, finances and my love for find out how things can become better with some right improvements*"
      ],
      "metadata": {
        "id": "ZBVIMmQ4mRYc"
      }
    },
    {
      "cell_type": "markdown",
      "source": [
        "<h3>My code is going to multiply your money</h3>"
      ],
      "metadata": {
        "id": "c8d4KQGdmS6k"
      }
    },
    {
      "cell_type": "code",
      "source": [
        "a=int(input(\"How much money do you have in your pocket? \"))\n",
        "      \n",
        "def mult(a):\n",
        "      return a*10\n",
        "    \n",
        "mult(a)"
      ],
      "metadata": {
        "colab": {
          "base_uri": "https://localhost:8080/"
        },
        "id": "EcDgrYbimYLd",
        "outputId": "f51ddbab-f728-418c-fea3-bd71039abd3c"
      },
      "execution_count": 4,
      "outputs": [
        {
          "name": "stdout",
          "output_type": "stream",
          "text": [
            "How much money do you have in your pocket? 21\n"
          ]
        },
        {
          "output_type": "execute_result",
          "data": {
            "text/plain": [
              "210"
            ]
          },
          "metadata": {},
          "execution_count": 4
        }
      ]
    },
    {
      "cell_type": "markdown",
      "source": [
        "***\n",
        "\n",
        "Date of birth | Country | Name\n",
        "--- | --- | ---\n",
        "*26/07/1994* | `Brasil` | **Laio Gomes**\n",
        "Aniversário | Origem | Identificação\n",
        "\n",
        "\n",
        "***\n",
        "\n",
        "[![IMAGE ALT TEXT HERE](http://img.youtube.com/vi/8UVNT4wvIGY/0.jpg)](http://www.youtube.com/watch?v=8UVNT4wvIGY)\n",
        "\n",
        "***"
      ],
      "metadata": {
        "id": "838dH1KKmd-l"
      }
    },
    {
      "cell_type": "code",
      "source": [
        ""
      ],
      "metadata": {
        "id": "501i_9ybmZPi"
      },
      "execution_count": null,
      "outputs": []
    }
  ]
}